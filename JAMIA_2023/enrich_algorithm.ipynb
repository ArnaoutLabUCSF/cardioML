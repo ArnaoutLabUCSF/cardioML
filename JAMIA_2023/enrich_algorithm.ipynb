{
 "cells": [
  {
   "cell_type": "markdown",
   "metadata": {},
   "source": [
    "## ENRICH Algorithm\n",
    "\n",
    "Iterative method to retrieve the proper order of elements with lowest maximum similarity from the remainder to an initial subgroup. Using trivial example."
   ]
  },
  {
   "cell_type": "code",
   "execution_count": 1,
   "metadata": {},
   "outputs": [],
   "source": [
    "import csv\n",
    "import pandas as pd\n",
    "import numpy as np\n",
    "import numba as nb\n",
    "import math\n",
    "import json\n",
    "\n",
    "import matplotlib.pyplot as plt"
   ]
  },
  {
   "cell_type": "markdown",
   "metadata": {},
   "source": [
    "## Example\n",
    "\n",
    "- convert diagonal from similarity 1 to 0 \n",
    "- A and B are in our initial subgroup\n",
    "- select element from the remainder, based on similarity values with A, B"
   ]
  },
  {
   "cell_type": "code",
   "execution_count": 2,
   "metadata": {},
   "outputs": [
    {
     "data": {
      "text/plain": [
       "array([[0.   , 0.16 , 0.15 , 0.14 , 0.1  , 0.004, 0.07 , 0.5  ],\n",
       "       [0.16 , 0.   , 0.13 , 0.12 , 0.08 , 0.06 , 0.133, 0.2  ],\n",
       "       [0.15 , 0.13 , 0.   , 0.11 , 0.09 , 0.21 , 0.22 , 0.23 ],\n",
       "       [0.14 , 0.12 , 0.11 , 0.   , 0.71 , 0.06 , 0.18 , 0.19 ],\n",
       "       [0.1  , 0.08 , 0.09 , 0.71 , 0.   , 0.24 , 0.25 , 0.06 ],\n",
       "       [0.004, 0.06 , 0.21 , 0.06 , 0.24 , 0.   , 0.44 , 0.42 ],\n",
       "       [0.07 , 0.133, 0.22 , 0.18 , 0.25 , 0.44 , 0.   , 0.001],\n",
       "       [0.5  , 0.2  , 0.23 , 0.19 , 0.06 , 0.42 , 0.001, 0.   ]])"
      ]
     },
     "execution_count": 2,
     "metadata": {},
     "output_type": "execute_result"
    }
   ],
   "source": [
    "all_names = np.asarray([\"A\", \"B\", \"C\", \"D\", \"E\", \"F\", \"G\", \"H\"])\n",
    "my_list = [None]*6\n",
    "my_matrix = np.asarray([[1, 0.16, 0.15, 0.14, 0.10, 0.004, 0.07, 0.50], \n",
    "                        [0.16, 1, 0.13, 0.12, 0.08, 0.06, 0.133, 0.20], \n",
    "                        [0.15, 0.13, 1, 0.11, 0.09, 0.21, 0.22, 0.23], \n",
    "                        [0.14, 0.12, 0.11, 1, 0.71, 0.06, 0.18, 0.19], \n",
    "                        [0.10, 0.08, 0.09, 0.71, 1, 0.24, 0.25, 0.06],\n",
    "                        [0.004, 0.06, 0.21, 0.06, 0.24, 1, 0.44, 0.42], \n",
    "                        [0.07, 0.133, 0.22, 0.18, 0.25, 0.44, 1, 0.001], \n",
    "                        [0.50, 0.20, 0.23, 0.19, 0.06, 0.42, 0.001, 1]])\n",
    "\n",
    "np.fill_diagonal(my_matrix, 0)\n",
    "my_matrix"
   ]
  },
  {
   "cell_type": "code",
   "execution_count": 3,
   "metadata": {},
   "outputs": [],
   "source": [
    "initial_names = [\"A\", \"B\"]"
   ]
  },
  {
   "cell_type": "markdown",
   "metadata": {},
   "source": [
    "### matrix version\n",
    "\n",
    "order should be: F, D, C, G, H, E"
   ]
  },
  {
   "cell_type": "code",
   "execution_count": 4,
   "metadata": {},
   "outputs": [],
   "source": [
    "namesDF = pd.DataFrame({\"sim_name\": all_names})"
   ]
  },
  {
   "cell_type": "code",
   "execution_count": 5,
   "metadata": {},
   "outputs": [
    {
     "data": {
      "text/plain": [
       "array([ True,  True, False, False, False, False, False, False])"
      ]
     },
     "execution_count": 5,
     "metadata": {},
     "output_type": "execute_result"
    }
   ],
   "source": [
    "namesDF[\"sim_name\"].isin(initial_names).values"
   ]
  },
  {
   "cell_type": "code",
   "execution_count": 66,
   "metadata": {
    "scrolled": true
   },
   "outputs": [
    {
     "name": "stdout",
     "output_type": "stream",
     "text": [
      "2.34 ms ± 69.6 µs per loop (mean ± std. dev. of 7 runs, 100 loops each)\n"
     ]
    }
   ],
   "source": [
    "%%timeit\n",
    "names = [\"A\", \"B\"]\n",
    "for j in range(6):\n",
    "    mask = namesDF[\"sim_name\"].isin(names).values    \n",
    "    new_pick_index = np.argmin(np.max(my_matrix[np.ix_(mask, ~mask)], axis=0))\n",
    "    names += [np.asarray(namesDF[\"sim_name\"][~mask])[new_pick_index]]"
   ]
  },
  {
   "cell_type": "code",
   "execution_count": 7,
   "metadata": {},
   "outputs": [
    {
     "name": "stdout",
     "output_type": "stream",
     "text": [
      "[[0.15  0.14  0.1   0.004 0.07  0.5  ]\n",
      " [0.13  0.12  0.08  0.06  0.133 0.2  ]]\n",
      "[0.15  0.14  0.1   0.06  0.133 0.5  ]\n",
      "['A', 'B', 'F']\n",
      "[[0.15  0.14  0.1   0.07  0.5  ]\n",
      " [0.13  0.12  0.08  0.133 0.2  ]\n",
      " [0.21  0.06  0.24  0.44  0.42 ]]\n",
      "[0.21 0.14 0.24 0.44 0.5 ]\n",
      "['A', 'B', 'F', 'D']\n",
      "[[0.15  0.1   0.07  0.5  ]\n",
      " [0.13  0.08  0.133 0.2  ]\n",
      " [0.11  0.71  0.18  0.19 ]\n",
      " [0.21  0.24  0.44  0.42 ]]\n",
      "[0.21 0.71 0.44 0.5 ]\n",
      "['A', 'B', 'F', 'D', 'C']\n",
      "[[0.1   0.07  0.5  ]\n",
      " [0.08  0.133 0.2  ]\n",
      " [0.09  0.22  0.23 ]\n",
      " [0.71  0.18  0.19 ]\n",
      " [0.24  0.44  0.42 ]]\n",
      "[0.71 0.44 0.5 ]\n",
      "['A', 'B', 'F', 'D', 'C', 'G']\n",
      "[[0.1   0.5  ]\n",
      " [0.08  0.2  ]\n",
      " [0.09  0.23 ]\n",
      " [0.71  0.19 ]\n",
      " [0.24  0.42 ]\n",
      " [0.25  0.001]]\n",
      "[0.71 0.5 ]\n",
      "['A', 'B', 'F', 'D', 'C', 'G', 'H']\n",
      "[[0.1 ]\n",
      " [0.08]\n",
      " [0.09]\n",
      " [0.71]\n",
      " [0.24]\n",
      " [0.25]\n",
      " [0.06]]\n",
      "[0.71]\n",
      "['A', 'B', 'F', 'D', 'C', 'G', 'H', 'E']\n"
     ]
    }
   ],
   "source": [
    "names = [\"A\", \"B\"]\n",
    "for j in range(6):\n",
    "    mask = namesDF[\"sim_name\"].isin(names).values\n",
    "    \n",
    "    # remainder similarity with subgroup\n",
    "    print(my_matrix[np.ix_(mask, ~mask)])\n",
    "    \n",
    "    # max of remainder similarity with subgroup\n",
    "    print(np.max(my_matrix[np.ix_(mask, ~mask)], axis=0))\n",
    "    \n",
    "    # min of the max of remainder similarity with subgroup\n",
    "    new_pick_index = np.argmin(np.max(my_matrix[np.ix_(mask, ~mask)], axis=0))\n",
    "    names += [np.asarray(namesDF[\"sim_name\"][~mask])[new_pick_index]]\n",
    "    \n",
    "    print(names)"
   ]
  },
  {
   "cell_type": "markdown",
   "metadata": {},
   "source": [
    "### updated matrix version\n",
    "\n",
    "order should be: F, D, C, G, H, E"
   ]
  },
  {
   "cell_type": "code",
   "execution_count": 13,
   "metadata": {},
   "outputs": [
    {
     "data": {
      "text/plain": [
       "array(['A', 'B', 'C', 'D', 'E', 'F', 'G', 'H'], dtype=object)"
      ]
     },
     "execution_count": 13,
     "metadata": {},
     "output_type": "execute_result"
    }
   ],
   "source": [
    "namesDF = pd.DataFrame({\"sim_name\": all_names})\n",
    "names = np.asarray(namesDF[\"sim_name\"])\n",
    "names"
   ]
  },
  {
   "cell_type": "code",
   "execution_count": 14,
   "metadata": {},
   "outputs": [
    {
     "data": {
      "text/plain": [
       "array(['A', 'B', 0, 0, 0, 0, 0, 0], dtype=object)"
      ]
     },
     "execution_count": 14,
     "metadata": {},
     "output_type": "execute_result"
    }
   ],
   "source": [
    "initial_names = np.zeros((8), dtype=object)\n",
    "initial_names[0] = \"A\"\n",
    "initial_names[1] = \"B\"\n",
    "initial_names"
   ]
  },
  {
   "cell_type": "code",
   "execution_count": 15,
   "metadata": {
    "scrolled": true
   },
   "outputs": [
    {
     "name": "stdout",
     "output_type": "stream",
     "text": [
      "376 µs ± 15.2 µs per loop (mean ± std. dev. of 7 runs, 1000 loops each)\n"
     ]
    }
   ],
   "source": [
    "%%timeit\n",
    "initial_names = np.zeros((8), dtype=object)\n",
    "initial_names[0] = \"A\"\n",
    "initial_names[1] = \"B\"\n",
    "\n",
    "for j in range(6):\n",
    "    mask = np.isin(initial_names, names)    \n",
    "    new_pick_index = np.argmin(np.max(my_matrix[np.ix_(mask, ~mask)], axis=0))\n",
    "    new_name = names[~mask][new_pick_index]\n",
    "\n",
    "    new_name_index = np.where(names == new_name)\n",
    "    initial_names[new_name_index] = new_name"
   ]
  },
  {
   "cell_type": "code",
   "execution_count": 16,
   "metadata": {},
   "outputs": [
    {
     "name": "stdout",
     "output_type": "stream",
     "text": [
      "[[0.15  0.14  0.1   0.004 0.07  0.5  ]\n",
      " [0.13  0.12  0.08  0.06  0.133 0.2  ]]\n",
      "[0.15  0.14  0.1   0.06  0.133 0.5  ]\n",
      "['A' 'B' 0 0 0 'F' 0 0]\n",
      "[[0.15  0.14  0.1   0.07  0.5  ]\n",
      " [0.13  0.12  0.08  0.133 0.2  ]\n",
      " [0.21  0.06  0.24  0.44  0.42 ]]\n",
      "[0.21 0.14 0.24 0.44 0.5 ]\n",
      "['A' 'B' 0 'D' 0 'F' 0 0]\n",
      "[[0.15  0.1   0.07  0.5  ]\n",
      " [0.13  0.08  0.133 0.2  ]\n",
      " [0.11  0.71  0.18  0.19 ]\n",
      " [0.21  0.24  0.44  0.42 ]]\n",
      "[0.21 0.71 0.44 0.5 ]\n",
      "['A' 'B' 'C' 'D' 0 'F' 0 0]\n",
      "[[0.1   0.07  0.5  ]\n",
      " [0.08  0.133 0.2  ]\n",
      " [0.09  0.22  0.23 ]\n",
      " [0.71  0.18  0.19 ]\n",
      " [0.24  0.44  0.42 ]]\n",
      "[0.71 0.44 0.5 ]\n",
      "['A' 'B' 'C' 'D' 0 'F' 'G' 0]\n",
      "[[0.1   0.5  ]\n",
      " [0.08  0.2  ]\n",
      " [0.09  0.23 ]\n",
      " [0.71  0.19 ]\n",
      " [0.24  0.42 ]\n",
      " [0.25  0.001]]\n",
      "[0.71 0.5 ]\n",
      "['A' 'B' 'C' 'D' 0 'F' 'G' 'H']\n",
      "[[0.1 ]\n",
      " [0.08]\n",
      " [0.09]\n",
      " [0.71]\n",
      " [0.24]\n",
      " [0.25]\n",
      " [0.06]]\n",
      "[0.71]\n",
      "['A' 'B' 'C' 'D' 'E' 'F' 'G' 'H']\n"
     ]
    }
   ],
   "source": [
    "initial_names = np.zeros((8), dtype=object)\n",
    "initial_names[0] = \"A\"\n",
    "initial_names[1] = \"B\"\n",
    "\n",
    "for j in range(6):\n",
    "    mask = np.isin(initial_names, names)\n",
    "    print(my_matrix[np.ix_(mask, ~mask)])\n",
    "    print(np.max(my_matrix[np.ix_(mask, ~mask)], axis=0))\n",
    "    \n",
    "    new_pick_index = np.argmin(np.max(my_matrix[np.ix_(mask, ~mask)], axis=0))\n",
    "    new_name = names[~mask][new_pick_index]\n",
    "\n",
    "    new_name_index = np.where(names == new_name)\n",
    "    initial_names[new_name_index] = new_name\n",
    "    print(initial_names)"
   ]
  },
  {
   "cell_type": "markdown",
   "metadata": {},
   "source": [
    "### w/ numba\n",
    "\n",
    "order should be: F, D, C, G, H, E\n",
    "\n",
    "future improvements:\n",
    "- update np.max w/ numba \n",
    "    - currently no optional arguments are allowed"
   ]
  },
  {
   "cell_type": "code",
   "execution_count": 17,
   "metadata": {},
   "outputs": [
    {
     "data": {
      "text/plain": [
       "array(['A', 'B', 'C', 'D', 'E', 'F', 'G', 'H'], dtype=object)"
      ]
     },
     "execution_count": 17,
     "metadata": {},
     "output_type": "execute_result"
    }
   ],
   "source": [
    "namesDF = pd.DataFrame({\"sim_name\": all_names})\n",
    "names = np.asarray(namesDF[\"sim_name\"])\n",
    "names"
   ]
  },
  {
   "cell_type": "code",
   "execution_count": 39,
   "metadata": {},
   "outputs": [],
   "source": [
    "@nb.jit(nopython=True, cache=False)\n",
    "def numba_initial_bool(size):\n",
    "    return np.zeros((size), dtype=np.bool_)\n",
    "\n",
    "@nb.jit(nopython=True, cache=False)\n",
    "def numba_nonzero(mask):\n",
    "    return mask.nonzero()[0]\n",
    "\n",
    "@nb.jit(nopython=True, cache=False)\n",
    "def numba_ix(arr, rows, cols):\n",
    "    \"\"\"\n",
    "    taken directly from https://github.com/numba/numba/issues/5894\n",
    "    numba compatible implementation of arr[np.ix_(rows, cols)] for 2D arrays.\n",
    "    \"\"\"\n",
    "    one_d_index = np.zeros(len(rows) * len(cols), dtype=np.int32)\n",
    "    for i, r in enumerate(rows):\n",
    "        start = i * len(cols)\n",
    "        one_d_index[start: start + len(cols)] = cols + arr.shape[1] * r\n",
    "\n",
    "    arr_1d = arr.reshape((arr.shape[0] * arr.shape[1], 1))\n",
    "    slice_1d = np.take(arr_1d, one_d_index)\n",
    "    return slice_1d.reshape((len(rows), len(cols)))"
   ]
  },
  {
   "cell_type": "code",
   "execution_count": 41,
   "metadata": {},
   "outputs": [
    {
     "name": "stdout",
     "output_type": "stream",
     "text": [
      "68.8 µs ± 4.2 µs per loop (mean ± std. dev. of 7 runs, 10000 loops each)\n"
     ]
    }
   ],
   "source": [
    "%%timeit\n",
    "mask = numba_initial_bool(8)\n",
    "mask[0] = True\n",
    "mask[1] = True\n",
    "\n",
    "for j in range(6):\n",
    "    remainder_index = np.argmin(np.max(numba_ix(my_matrix, numba_nonzero(mask), numba_nonzero(~mask)), axis=0))    \n",
    "    remainders = numba_nonzero(~mask)\n",
    "    mask[remainders[remainder_index]] = True"
   ]
  },
  {
   "cell_type": "code",
   "execution_count": 43,
   "metadata": {},
   "outputs": [
    {
     "name": "stdout",
     "output_type": "stream",
     "text": [
      "[[0.15  0.14  0.1   0.004 0.07  0.5  ]\n",
      " [0.13  0.12  0.08  0.06  0.133 0.2  ]]\n",
      "[0.15  0.14  0.1   0.06  0.133 0.5  ]\n",
      "['A' 'B' 'F']\n",
      "[[0.15  0.14  0.1   0.07  0.5  ]\n",
      " [0.13  0.12  0.08  0.133 0.2  ]\n",
      " [0.21  0.06  0.24  0.44  0.42 ]]\n",
      "[0.21 0.14 0.24 0.44 0.5 ]\n",
      "['A' 'B' 'D' 'F']\n",
      "[[0.15  0.1   0.07  0.5  ]\n",
      " [0.13  0.08  0.133 0.2  ]\n",
      " [0.11  0.71  0.18  0.19 ]\n",
      " [0.21  0.24  0.44  0.42 ]]\n",
      "[0.21 0.71 0.44 0.5 ]\n",
      "['A' 'B' 'C' 'D' 'F']\n",
      "[[0.1   0.07  0.5  ]\n",
      " [0.08  0.133 0.2  ]\n",
      " [0.09  0.22  0.23 ]\n",
      " [0.71  0.18  0.19 ]\n",
      " [0.24  0.44  0.42 ]]\n",
      "[0.71 0.44 0.5 ]\n",
      "['A' 'B' 'C' 'D' 'F' 'G']\n",
      "[[0.1   0.5  ]\n",
      " [0.08  0.2  ]\n",
      " [0.09  0.23 ]\n",
      " [0.71  0.19 ]\n",
      " [0.24  0.42 ]\n",
      " [0.25  0.001]]\n",
      "[0.71 0.5 ]\n",
      "['A' 'B' 'C' 'D' 'F' 'G' 'H']\n",
      "[[0.1 ]\n",
      " [0.08]\n",
      " [0.09]\n",
      " [0.71]\n",
      " [0.24]\n",
      " [0.25]\n",
      " [0.06]]\n",
      "[0.71]\n",
      "['A' 'B' 'C' 'D' 'E' 'F' 'G' 'H']\n"
     ]
    }
   ],
   "source": [
    "mask = numba_initial_bool(8)\n",
    "mask[0] = True\n",
    "mask[1] = True\n",
    "\n",
    "for j in range(6):\n",
    "    print(my_matrix[np.ix_(mask, ~mask)])\n",
    "    print(np.max(my_matrix[np.ix_(mask, ~mask)], axis=0))\n",
    "\n",
    "    remainder_index = np.argmin(np.max(numba_ix(my_matrix, numba_nonzero(mask), numba_nonzero(~mask)), axis=0))  \n",
    "    remainders = numba_nonzero(~mask)\n",
    "    mask[remainders[remainder_index]] = True\n",
    "    print(names[mask])"
   ]
  },
  {
   "cell_type": "code",
   "execution_count": null,
   "metadata": {},
   "outputs": [],
   "source": []
  }
 ],
 "metadata": {
  "kernelspec": {
   "display_name": "Python 3",
   "language": "python",
   "name": "python3"
  },
  "language_info": {
   "codemirror_mode": {
    "name": "ipython",
    "version": 3
   },
   "file_extension": ".py",
   "mimetype": "text/x-python",
   "name": "python",
   "nbconvert_exporter": "python",
   "pygments_lexer": "ipython3",
   "version": "3.8.5"
  }
 },
 "nbformat": 4,
 "nbformat_minor": 2
}
